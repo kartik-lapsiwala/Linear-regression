{
 "cells": [
  {
   "cell_type": "markdown",
   "metadata": {},
   "source": [
    "#### Import libraries "
   ]
  },
  {
   "cell_type": "code",
   "execution_count": 1,
   "metadata": {},
   "outputs": [],
   "source": [
    "import pandas as pd\n",
    "import matplotlib.pyplot as plt\n",
   ]
  },
  {
   "cell_type": "markdown",
   "metadata": {},
   "source": [
    "#### Import dataset "
   ]
  },
  {
   "cell_type": "code",
   "execution_count": 2,
   "metadata": {
    "scrolled": true
   },
   "outputs": [
    {
     "data": {
      "text/html": [
       "<div>\n",
       "<style scoped>\n",
       "    .dataframe tbody tr th:only-of-type {\n",
       "        vertical-align: middle;\n",
       "    }\n",
       "\n",
       "    .dataframe tbody tr th {\n",
       "        vertical-align: top;\n",
       "    }\n",
       "\n",
       "    .dataframe thead th {\n",
       "        text-align: right;\n",
       "    }\n",
       "</style>\n",
       "<table border=\"1\" class=\"dataframe\">\n",
       "  <thead>\n",
       "    <tr style=\"text-align: right;\">\n",
       "      <th></th>\n",
       "      <th>YearsExperience</th>\n",
       "      <th>Salary</th>\n",
       "    </tr>\n",
       "  </thead>\n",
       "  <tbody>\n",
       "    <tr>\n",
       "      <th>0</th>\n",
       "      <td>1.1</td>\n",
       "      <td>39343.0</td>\n",
       "    </tr>\n",
       "    <tr>\n",
       "      <th>1</th>\n",
       "      <td>1.3</td>\n",
       "      <td>46205.0</td>\n",
       "    </tr>\n",
       "    <tr>\n",
       "      <th>2</th>\n",
       "      <td>1.5</td>\n",
       "      <td>37731.0</td>\n",
       "    </tr>\n",
       "    <tr>\n",
       "      <th>3</th>\n",
       "      <td>2.0</td>\n",
       "      <td>43525.0</td>\n",
       "    </tr>\n",
       "    <tr>\n",
       "      <th>4</th>\n",
       "      <td>2.2</td>\n",
       "      <td>39891.0</td>\n",
       "    </tr>\n",
       "    <tr>\n",
       "      <th>5</th>\n",
       "      <td>2.9</td>\n",
       "      <td>56642.0</td>\n",
       "    </tr>\n",
       "    <tr>\n",
       "      <th>6</th>\n",
       "      <td>3.0</td>\n",
       "      <td>60150.0</td>\n",
       "    </tr>\n",
       "    <tr>\n",
       "      <th>7</th>\n",
       "      <td>3.2</td>\n",
       "      <td>54445.0</td>\n",
       "    </tr>\n",
       "    <tr>\n",
       "      <th>8</th>\n",
       "      <td>3.2</td>\n",
       "      <td>64445.0</td>\n",
       "    </tr>\n",
       "    <tr>\n",
       "      <th>9</th>\n",
       "      <td>3.7</td>\n",
       "      <td>57189.0</td>\n",
       "    </tr>\n",
       "    <tr>\n",
       "      <th>10</th>\n",
       "      <td>3.9</td>\n",
       "      <td>63218.0</td>\n",
       "    </tr>\n",
       "    <tr>\n",
       "      <th>11</th>\n",
       "      <td>4.0</td>\n",
       "      <td>55794.0</td>\n",
       "    </tr>\n",
       "    <tr>\n",
       "      <th>12</th>\n",
       "      <td>4.0</td>\n",
       "      <td>56957.0</td>\n",
       "    </tr>\n",
       "    <tr>\n",
       "      <th>13</th>\n",
       "      <td>4.1</td>\n",
       "      <td>57081.0</td>\n",
       "    </tr>\n",
       "    <tr>\n",
       "      <th>14</th>\n",
       "      <td>4.5</td>\n",
       "      <td>61111.0</td>\n",
       "    </tr>\n",
       "    <tr>\n",
       "      <th>15</th>\n",
       "      <td>4.9</td>\n",
       "      <td>67938.0</td>\n",
       "    </tr>\n",
       "    <tr>\n",
       "      <th>16</th>\n",
       "      <td>5.1</td>\n",
       "      <td>66029.0</td>\n",
       "    </tr>\n",
       "    <tr>\n",
       "      <th>17</th>\n",
       "      <td>5.3</td>\n",
       "      <td>83088.0</td>\n",
       "    </tr>\n",
       "    <tr>\n",
       "      <th>18</th>\n",
       "      <td>5.9</td>\n",
       "      <td>81363.0</td>\n",
       "    </tr>\n",
       "    <tr>\n",
       "      <th>19</th>\n",
       "      <td>6.0</td>\n",
       "      <td>93940.0</td>\n",
       "    </tr>\n",
       "    <tr>\n",
       "      <th>20</th>\n",
       "      <td>6.8</td>\n",
       "      <td>91738.0</td>\n",
       "    </tr>\n",
       "    <tr>\n",
       "      <th>21</th>\n",
       "      <td>7.1</td>\n",
       "      <td>98273.0</td>\n",
       "    </tr>\n",
       "    <tr>\n",
       "      <th>22</th>\n",
       "      <td>7.9</td>\n",
       "      <td>101302.0</td>\n",
       "    </tr>\n",
       "    <tr>\n",
       "      <th>23</th>\n",
       "      <td>8.2</td>\n",
       "      <td>113812.0</td>\n",
       "    </tr>\n",
       "    <tr>\n",
       "      <th>24</th>\n",
       "      <td>8.7</td>\n",
       "      <td>109431.0</td>\n",
       "    </tr>\n",
       "    <tr>\n",
       "      <th>25</th>\n",
       "      <td>9.0</td>\n",
       "      <td>105582.0</td>\n",
       "    </tr>\n",
       "    <tr>\n",
       "      <th>26</th>\n",
       "      <td>9.5</td>\n",
       "      <td>116969.0</td>\n",
       "    </tr>\n",
       "    <tr>\n",
       "      <th>27</th>\n",
       "      <td>9.6</td>\n",
       "      <td>112635.0</td>\n",
       "    </tr>\n",
       "    <tr>\n",
       "      <th>28</th>\n",
       "      <td>10.3</td>\n",
       "      <td>122391.0</td>\n",
       "    </tr>\n",
       "    <tr>\n",
       "      <th>29</th>\n",
       "      <td>10.5</td>\n",
       "      <td>121872.0</td>\n",
       "    </tr>\n",
       "  </tbody>\n",
       "</table>\n",
       "</div>"
      ],
      "text/plain": [
       "    YearsExperience    Salary\n",
       "0               1.1   39343.0\n",
       "1               1.3   46205.0\n",
       "2               1.5   37731.0\n",
       "3               2.0   43525.0\n",
       "4               2.2   39891.0\n",
       "5               2.9   56642.0\n",
       "6               3.0   60150.0\n",
       "7               3.2   54445.0\n",
       "8               3.2   64445.0\n",
       "9               3.7   57189.0\n",
       "10              3.9   63218.0\n",
       "11              4.0   55794.0\n",
       "12              4.0   56957.0\n",
       "13              4.1   57081.0\n",
       "14              4.5   61111.0\n",
       "15              4.9   67938.0\n",
       "16              5.1   66029.0\n",
       "17              5.3   83088.0\n",
       "18              5.9   81363.0\n",
       "19              6.0   93940.0\n",
       "20              6.8   91738.0\n",
       "21              7.1   98273.0\n",
       "22              7.9  101302.0\n",
       "23              8.2  113812.0\n",
       "24              8.7  109431.0\n",
       "25              9.0  105582.0\n",
       "26              9.5  116969.0\n",
       "27              9.6  112635.0\n",
       "28             10.3  122391.0\n",
       "29             10.5  121872.0"
      ]
     },
     "execution_count": 2,
     "metadata": {},
     "output_type": "execute_result"
    }
   ],
   "source": [
    "dataset = pd.read_csv('Salary_Data.csv')\n",
    "dataset"
   ]
  },
  {
   "cell_type": "markdown",
   "metadata": {},
   "source": [
    "#### Define dependent and independent variables "
   ]
  },
  {
   "cell_type": "code",
   "execution_count": 3,
   "metadata": {},
   "outputs": [],
   "source": [
    "x = dataset.iloc[:, :-1].values\n",
    "y = dataset.iloc[:,1].values"
   ]
  },
  {
   "cell_type": "markdown",
   "metadata": {},
   "source": [
    "#### Split dataset into training and test set "
   ]
  },
  {
   "cell_type": "code",
   "execution_count": 4,
   "metadata": {},
   "outputs": [],
   "source": [
    "from sklearn.model_selection import train_test_split\n",
    "x_train,x_test,y_train,y_test = train_test_split(x, y, test_size = 1/3)"
   ]
  },
  {
   "cell_type": "markdown",
   "metadata": {},
   "source": [
    "#### Create a regressor "
   ]
  },
  {
   "cell_type": "code",
   "execution_count": 5,
   "metadata": {},
   "outputs": [
    {
     "data": {
      "text/plain": [
       "LinearRegression(copy_X=True, fit_intercept=True, n_jobs=1, normalize=False)"
      ]
     },
     "execution_count": 5,
     "metadata": {},
     "output_type": "execute_result"
    }
   ],
   "source": [
    "from sklearn.linear_model import LinearRegression\n",
    "regressor = LinearRegression()\n",
    "regressor.fit(x_train, y_train)"
   ]
  },
  {
   "cell_type": "markdown",
   "metadata": {},
   "source": [
    "#### Make prediction based on independent test set"
   ]
  },
  {
   "cell_type": "code",
   "execution_count": 6,
   "metadata": {},
   "outputs": [],
   "source": [
    "y_pred = regressor.predict(x_test)"
   ]
  },
  {
   "cell_type": "code",
   "execution_count": 7,
   "metadata": {},
   "outputs": [
    {
     "data": {
      "text/plain": [
       "array([ 57081,  63218,  43525,  81363,  93940, 112635,  61111, 113812,\n",
       "        54445,  67938])"
      ]
     },
     "execution_count": 7,
     "metadata": {},
     "output_type": "execute_result"
    }
   ],
   "source": [
    "y_test.astype(int)"
   ]
  },
  {
   "cell_type": "code",
   "execution_count": 8,
   "metadata": {},
   "outputs": [
    {
     "data": {
      "text/plain": [
       "array([ 64992,  63150,  45651,  81570,  82491, 115647,  68676, 102753,\n",
       "        56703,  72360])"
      ]
     },
     "execution_count": 8,
     "metadata": {},
     "output_type": "execute_result"
    }
   ],
   "source": [
    "y_pred.astype(int)"
   ]
  },
  {
   "cell_type": "markdown",
   "metadata": {},
   "source": [
    "#### Create a plot using matplotlib "
   ]
  },
  {
   "cell_type": "code",
   "execution_count": 9,
   "metadata": {},
   "outputs": [
    {
     "data": {
      "text/plain": [
       "[<matplotlib.lines.Line2D at 0x225f0cb7dd8>]"
      ]
     },
     "execution_count": 9,
     "metadata": {},
     "output_type": "execute_result"
    },
    {
     "data": {
      "image/png": "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\n",
      "text/plain": [
       "<matplotlib.figure.Figure at 0x225f0cb7da0>"
      ]
     },
     "metadata": {},
     "output_type": "display_data"
    }
   ],
   "source": [
    "plt.scatter(x_test, y_test, color = 'red')\n",
    "plt.xlabel('Years of experience', fontsize = 15)\n",
    "plt.ylabel('Salary in $', fontsize = 15)\n",
    "plt.plot(x_test, y_pred)"
   ]
  }
 ],
 "metadata": {
  "kernelspec": {
   "display_name": "Python 3",
   "language": "python",
   "name": "python3"
  },
  "language_info": {
   "codemirror_mode": {
    "name": "ipython",
    "version": 3
   },
   "file_extension": ".py",
   "mimetype": "text/x-python",
   "name": "python",
   "nbconvert_exporter": "python",
   "pygments_lexer": "ipython3",
   "version": "3.6.4"
  }
 },
 "nbformat": 4,
 "nbformat_minor": 2
}
